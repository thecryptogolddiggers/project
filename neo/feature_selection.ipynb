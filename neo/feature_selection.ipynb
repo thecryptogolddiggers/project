{
 "cells": [
  {
   "cell_type": "markdown",
   "metadata": {},
   "source": [
    "# Cryptocurrency Analysis"
   ]
  },
  {
   "cell_type": "markdown",
   "metadata": {},
   "source": [
    "## Modules used in this assignment"
   ]
  },
  {
   "cell_type": "code",
   "execution_count": 12,
   "metadata": {
    "collapsed": true
   },
   "outputs": [],
   "source": [
    "from sklearn.ensemble import RandomForestClassifier as RFC\n",
    "from sklearn.ensemble import AdaBoostClassifier as ABC\n",
    "from sklearn.ensemble import GradientBoostingClassifier as GBC\n",
    "from sklearn.neural_network import MLPClassifier as NeuralNet\n",
    "from sklearn.model_selection import train_test_split\n",
    "from sklearn.preprocessing import LabelEncoder\n",
    "from sklearn.preprocessing import StandardScaler  \n",
    "from sklearn.metrics import accuracy_score\n",
    "from sklearn.metrics import matthews_corrcoef as mcc\n",
    "import numpy as np\n",
    "import pandas as pd\n",
    "import matplotlib.pyplot as plt\n",
    "labelencoder = LabelEncoder()\n",
    "\n",
    "input_file = 'data/neo_price_new.csv'\n",
    "\n",
    "def two_scales(ax1, title, time, data1, data2, c1, c2):\n",
    "    plt.title(str(title))\n",
    "    ax2 = ax1.twinx()\n",
    "    ax1.plot(time, data1, color=c1)\n",
    "    ax2.plot(time, data2, color=c2)\n",
    "    return ax1, ax2"
   ]
  },
  {
   "cell_type": "markdown",
   "metadata": {},
   "source": [
    "## Random Forest"
   ]
  },
  {
   "cell_type": "markdown",
   "metadata": {},
   "source": [
    "#### Settings"
   ]
  },
  {
   "cell_type": "code",
   "execution_count": 13,
   "metadata": {
    "collapsed": true
   },
   "outputs": [],
   "source": [
    "# attribute to predict (binary)\n",
    "attribute = 'increase_flag'\n",
    "\n",
    "# train/test split\n",
    "split = 0.8\n",
    "\n",
    "# number of features available\n",
    "num_feats = 7"
   ]
  },
  {
   "cell_type": "markdown",
   "metadata": {},
   "source": [
    "#### Training and Testing"
   ]
  },
  {
   "cell_type": "code",
   "execution_count": 14,
   "metadata": {
    "scrolled": true
   },
   "outputs": [
    {
     "name": "stdout",
     "output_type": "stream",
     "text": [
      "We accurately predicted the next day's price movement with 79.25% accuracy.\n",
      "\n",
      "preds   no  yes\n",
      "actual         \n",
      "0       23    5\n",
      "1        6   19\n",
      "MCC = 0.58\n"
     ]
    },
    {
     "data": {
      "image/png": "[encoded data removed]",
      "text/plain": [
       "<matplotlib.figure.Figure at 0x1177699d0>"
      ]
     },
     "metadata": {},
     "output_type": "display_data"
    }
   ],
   "source": [
    "# load and format data\n",
    "df = pd.read_csv(input_file)\n",
    "outcomes = np.array(['no','yes'])\n",
    "names = list(df.columns.values)\n",
    "\n",
    "# preprocessing: factorize date column\n",
    "# for i in range(1):\n",
    "#     df.iloc[:,i] = labelencoder.fit_transform(df.iloc[:,i])\n",
    "    \n",
    "# train/test split\n",
    "df['is_train'] = np.random.uniform(0, 1, len(df)) <= split\n",
    "train, test = df[df['is_train']==True], df[df['is_train']==False]\n",
    "\n",
    "# features (using all)\n",
    "features = df.columns[1:num_feats]\n",
    "\n",
    "# random forest\n",
    "# forest = RFC(n_estimators=175, criterion='gini', max_features='sqrt', max_depth=12,\n",
    "#             min_samples_split=4, min_samples_leaf=2, oob_score=True)\n",
    "forest = RFC(n_estimators=175, criterion='gini', n_jobs=2)\n",
    "forest.fit(train[features], train[attribute])\n",
    "\n",
    "# predictions and plotting\n",
    "preds = outcomes[forest.predict(test[features])]\n",
    "accuracy = accuracy_score(test[attribute], forest.predict(test[features]), \n",
    "                          normalize=True, sample_weight=None) * 100\n",
    "print(\"We accurately predicted the next day's price movement with %.2f%% accuracy.\\n\" % accuracy)\n",
    "\n",
    "# confusion matrix\n",
    "print(pd.crosstab(index=test[attribute], columns=preds, \n",
    "                  rownames=['actual'], colnames=['preds']))\n",
    "\n",
    "# matthews correction coefficient\n",
    "coeff = mcc(test[attribute],forest.predict(test[features]))\n",
    "print(\"MCC = %.2f\" % coeff)\n",
    "\n",
    "# plot feature importance\n",
    "importances = forest.feature_importances_\n",
    "indices = np.argsort(importances)\n",
    "plt.figure(figsize=(20,10))\n",
    "plt.title('Feature Importances')\n",
    "plt.barh(range(len(indices)), importances[indices], \n",
    "         color='g', align='center')\n",
    "plt.yticks(range(len(indices)), features[indices])\n",
    "plt.xlabel('Relative Importance')\n",
    "plt.show()"
   ]
  },
  {
   "cell_type": "markdown",
   "metadata": {},
   "source": [
    "#### Feature Selection"
   ]
  },
  {
   "cell_type": "code",
   "execution_count": 15,
   "metadata": {},
   "outputs": [
    {
     "data": {
      "image/png": "[encoded data removed]",
      "text/plain": [
       "<matplotlib.figure.Figure at 0x117792b50>"
      ]
     },
     "metadata": {},
     "output_type": "display_data"
    },
    {
     "name": "stdout",
     "output_type": "stream",
     "text": [
      "By using 6 of 7 features, we attained 31.53% adjusted accuracy\n",
      "\n"
     ]
    }
   ],
   "source": [
    "accuracy_l = []\n",
    "\n",
    "for i in range(1,num_feats+1):\n",
    "    # how many?\n",
    "    feats_to_keep = i\n",
    "\n",
    "    # reduce features\n",
    "    top_features = df.columns[indices[-1*int(feats_to_keep):]]\n",
    "\n",
    "    # random forest\n",
    "    forest = RFC(n_jobs=2,n_estimators=100)\n",
    "    forest.fit(train[top_features], train[attribute])\n",
    "    \n",
    "    # predictions and plotting\n",
    "    preds = forest.predict(test[top_features])\n",
    "    mattcc = mcc(test[attribute],preds)\n",
    "    accuracy_l.append(accuracy_score(test[attribute], preds, normalize=True, sample_weight=None) * mattcc * 100)\n",
    "\n",
    "# visual inspection of accuracy W.R.T \n",
    "plt.title('Adjusted Accuracy vs. Features Utilized')\n",
    "plt.bar(range(num_feats), accuracy_l, color='b', align='center')\n",
    "plt.xlabel('n-Top Features Utilized')\n",
    "plt.show()\n",
    "\n",
    "# optimal number of features to keep\n",
    "best_n = accuracy_l.index(max(accuracy_l))\n",
    "print(\"By using %d of %d features, we attained %.2f%% adjusted accuracy\\n\" % (best_n + 1,num_feats,accuracy_l[best_n]))\n",
    "feats_to_keep = best_n\n",
    "\n",
    "# FOR NEXT CELL\n",
    "\n",
    "# reduce features\n",
    "top_features = df.columns[indices[-1*int(feats_to_keep):]]\n",
    "\n",
    "# random forest\n",
    "forest = RFC(n_jobs=4,n_estimators=200)\n",
    "forest.fit(train[top_features], train[attribute])\n",
    "preds = forest.predict(test[top_features])"
   ]
  },
  {
   "cell_type": "markdown",
   "metadata": {},
   "source": [
    "## Adaboost"
   ]
  },
  {
   "cell_type": "markdown",
   "metadata": {},
   "source": [
    "#### Settings"
   ]
  },
  {
   "cell_type": "code",
   "execution_count": 16,
   "metadata": {
    "collapsed": true
   },
   "outputs": [],
   "source": [
    "# attribute to predict (binary)\n",
    "attribute = 'increase_flag'\n",
    "\n",
    "# train/test split\n",
    "split = 0.8\n",
    "\n",
    "# number of features available\n",
    "num_feats = 7"
   ]
  },
  {
   "cell_type": "markdown",
   "metadata": {},
   "source": [
    "#### Training and Testing"
   ]
  },
  {
   "cell_type": "code",
   "execution_count": 17,
   "metadata": {},
   "outputs": [
    {
     "name": "stdout",
     "output_type": "stream",
     "text": [
      "AdaBoost Accuracy: 77.97%\n",
      "MCC = 0.54\n"
     ]
    },
    {
     "data": {
      "image/png": "[encoded data removed]",
      "text/plain": [
       "<matplotlib.figure.Figure at 0x116aa6b10>"
      ]
     },
     "metadata": {},
     "output_type": "display_data"
    }
   ],
   "source": [
    "# dataset\n",
    "df_ada = pd.read_csv(input_file)\n",
    "\n",
    "# preprocessing: factorize date column\n",
    "# for i in [0]:\n",
    "#     df_ada.iloc[:,i] = labelencoder.fit_transform(df_ada.iloc[:,i])\n",
    "\n",
    "# train/test split\n",
    "df_ada['is_train'] = np.random.uniform(0, 1, len(df_ada)) <= split\n",
    "train, test = df_ada[df_ada['is_train']==True], df_ada[df_ada['is_train']==False]\n",
    "\n",
    "# features (using all)\n",
    "features = df_ada.columns[0:num_feats]\n",
    "\n",
    "# training and testing\n",
    "adaboost = ABC(n_estimators=100).fit(train[features], train[attribute])\n",
    "print(\"AdaBoost Accuracy: %.2f%%\" % (adaboost.score(test[features], test[attribute])*100.0))\n",
    "\n",
    "# matthews correction coefficient\n",
    "coeff = mcc(test[attribute],adaboost.predict(test[features]))\n",
    "print(\"MCC = %.2f\" % coeff)\n",
    "\n",
    "# plot feature importance\n",
    "importances = adaboost.feature_importances_\n",
    "indices = np.argsort(importances)\n",
    "plt.figure(figsize=(20,10))\n",
    "plt.title('Feature Importances')\n",
    "plt.barh(range(len(indices)), importances[indices], \n",
    "         color='g', align='center')\n",
    "plt.yticks(range(len(indices)), features[indices])\n",
    "plt.xlabel('Relative Importance')\n",
    "plt.show()"
   ]
  },
  {
   "cell_type": "markdown",
   "metadata": {},
   "source": [
    "#### Feature Selection"
   ]
  },
  {
   "cell_type": "code",
   "execution_count": 18,
   "metadata": {},
   "outputs": [
    {
     "data": {
      "image/png": "[encoded data removed]",
      "text/plain": [
       "<matplotlib.figure.Figure at 0x117783790>"
      ]
     },
     "metadata": {},
     "output_type": "display_data"
    },
    {
     "name": "stdout",
     "output_type": "stream",
     "text": [
      "By using 2 of 7 features, we attained 54.05% adjusted accuracy\n",
      "\n"
     ]
    }
   ],
   "source": [
    "accuracy_l = []\n",
    "\n",
    "for i in range(1,num_feats+1):\n",
    "    # how many?\n",
    "    feats_to_keep = i\n",
    "\n",
    "    # reduce features\n",
    "    top_features = df_ada.columns[indices[-1*int(feats_to_keep):]]\n",
    "\n",
    "    # adaboost\n",
    "    adaboost = ABC(n_estimators=100).fit(train[features], train[attribute])\n",
    "    adaboost.fit(train[top_features], train[attribute])\n",
    "    \n",
    "    # predictions and plotting\n",
    "    coeff = mcc(test[attribute],adaboost.predict(test[top_features]))\n",
    "    accuracy_l.append(adaboost.score(test[top_features], test[attribute]) * coeff * 100.0)\n",
    "\n",
    "plt.title('Adjusted Accuracy vs. Features Utilized')\n",
    "plt.bar(range(num_feats), accuracy_l, color='b', align='center')\n",
    "plt.xlabel('n-Top Features Utilized')\n",
    "plt.show()\n",
    "\n",
    "best_n = accuracy_l.index(max(accuracy_l))\n",
    "\n",
    "print(\"By using %d of %d features, we attained %.2f%% adjusted accuracy\\n\" % (best_n + 1,num_feats,accuracy_l[best_n]))"
   ]
  },
  {
   "cell_type": "markdown",
   "metadata": {},
   "source": [
    "## Gradient Boost"
   ]
  },
  {
   "cell_type": "markdown",
   "metadata": {},
   "source": [
    "#### Settings"
   ]
  },
  {
   "cell_type": "code",
   "execution_count": 19,
   "metadata": {
    "collapsed": true
   },
   "outputs": [],
   "source": [
    "# attribute to predict (binary)\n",
    "attribute = 'increase_flag'\n",
    "\n",
    "# train/test split\n",
    "split = 0.8\n",
    "\n",
    "# number of features available\n",
    "num_feats = 7"
   ]
  },
  {
   "cell_type": "markdown",
   "metadata": {},
   "source": [
    "#### Training and Testing"
   ]
  },
  {
   "cell_type": "code",
   "execution_count": 20,
   "metadata": {},
   "outputs": [
    {
     "name": "stdout",
     "output_type": "stream",
     "text": [
      "GradBoost Accuracy: 74.03%\n",
      "MCC = 0.48\n"
     ]
    },
    {
     "data": {
      "image/png": "[encoded data removed]",
      "text/plain": [
       "<matplotlib.figure.Figure at 0x116ab6ad0>"
      ]
     },
     "metadata": {},
     "output_type": "display_data"
    }
   ],
   "source": [
    "# dataset\n",
    "df_gb = pd.read_csv(input_file)\n",
    "\n",
    "# preprocessing: factorize date column\n",
    "# for i in [0]:\n",
    "#     df_gb.iloc[:,i] = labelencoder.fit_transform(df_gb.iloc[:,i])\n",
    "\n",
    "# train/test split\n",
    "df_gb['is_train'] = np.random.uniform(0, 1, len(df_gb)) <= split\n",
    "train, test = df_gb[df_gb['is_train']==True], df_gb[df_gb['is_train']==False]\n",
    "\n",
    "# features (using all)\n",
    "features = df_gb.columns[0:num_feats]\n",
    "\n",
    "# training and testing\n",
    "gradboost = GBC(n_estimators=100, learning_rate=0.01, max_depth=10, random_state=5)\n",
    "gradboost.fit(train[features], train[attribute])\n",
    "print(\"GradBoost Accuracy: %.2f%%\" % (gradboost.score(test[features], test[attribute])*100.0))\n",
    "\n",
    "# matthews correction coefficient\n",
    "coeff = mcc(test[attribute],gradboost.predict(test[features]))\n",
    "print(\"MCC = %.2f\" % coeff)\n",
    "\n",
    "# feature importance\n",
    "importances = gradboost.feature_importances_\n",
    "indices = np.argsort(importances)\n",
    "plt.figure(figsize=(20,10))\n",
    "plt.title('Feature Importances')\n",
    "plt.barh(range(len(indices)), importances[indices], \n",
    "         color='g', align='center')\n",
    "plt.yticks(range(len(indices)), features[indices])\n",
    "plt.xlabel('Relative Importance')\n",
    "plt.show()"
   ]
  },
  {
   "cell_type": "markdown",
   "metadata": {},
   "source": [
    "#### Feature Selection"
   ]
  },
  {
   "cell_type": "code",
   "execution_count": 21,
   "metadata": {},
   "outputs": [
    {
     "data": {
      "image/png": "[encoded data removed]",
      "text/plain": [
       "<matplotlib.figure.Figure at 0x116b7c690>"
      ]
     },
     "metadata": {},
     "output_type": "display_data"
    },
    {
     "name": "stdout",
     "output_type": "stream",
     "text": [
      "By using 3 of 7 features, we attained 46.24% accuracy\n",
      "\n"
     ]
    }
   ],
   "source": [
    "accuracy_l = []\n",
    "for i in range(1,num_feats+1):\n",
    "    # how many?\n",
    "    feats_to_keep = i\n",
    "    # reduce features\n",
    "    top_features = df_gb.columns[indices[-1*int(feats_to_keep):]]\n",
    "    # gradient boost\n",
    "    gradboost = GBC(n_estimators=100, learning_rate=0.01, max_depth=10, random_state=5)\n",
    "    gradboost.fit(train[top_features], train[attribute])    \n",
    "    # predictions and plotting\n",
    "    coeff = mcc(test[attribute],gradboost.predict(test[top_features]))\n",
    "    accuracy_l.append(gradboost.score(test[top_features], test[attribute]) * coeff * 100.0)\n",
    "\n",
    "# plot feature selection results\n",
    "plt.title('Prediction Accuracy vs. Features Utilized')\n",
    "plt.bar(range(num_feats), accuracy_l, color='b', align='center')\n",
    "plt.xlabel('n-Top Features Utilized')\n",
    "plt.show()\n",
    "\n",
    "# optimal number of features\n",
    "best_n = accuracy_l.index(max(accuracy_l))\n",
    "print(\"By using %d of %d features, we attained %.2f%% accuracy\\n\" % (best_n + 1,num_feats,accuracy_l[best_n]))"
   ]
  },
  {
   "cell_type": "markdown",
   "metadata": {},
   "source": [
    "## Neural Network (MLP)"
   ]
  },
  {
   "cell_type": "markdown",
   "metadata": {},
   "source": [
    "#### Settings"
   ]
  },
  {
   "cell_type": "code",
   "execution_count": 22,
   "metadata": {
    "collapsed": true
   },
   "outputs": [],
   "source": [
    "# attribute to predict (binary)\n",
    "attribute = 'increase_flag'\n",
    "\n",
    "# train/test split\n",
    "split = 0.8\n",
    "\n",
    "# number of features available\n",
    "num_feats = 7"
   ]
  },
  {
   "cell_type": "markdown",
   "metadata": {},
   "source": [
    "#### Training and Testing"
   ]
  },
  {
   "cell_type": "code",
   "execution_count": 23,
   "metadata": {},
   "outputs": [
    {
     "name": "stderr",
     "output_type": "stream",
     "text": [
      "/Users/sulkuatam/anaconda/lib/python2.7/site-packages/ipykernel_launcher.py:18: SettingWithCopyWarning: \n",
      "A value is trying to be set on a copy of a slice from a DataFrame.\n",
      "Try using .loc[row_indexer,col_indexer] = value instead\n",
      "\n",
      "See the caveats in the documentation: http://pandas.pydata.org/pandas-docs/stable/indexing.html#indexing-view-versus-copy\n",
      "/Users/sulkuatam/anaconda/lib/python2.7/site-packages/pandas/core/indexing.py:517: SettingWithCopyWarning: \n",
      "A value is trying to be set on a copy of a slice from a DataFrame.\n",
      "Try using .loc[row_indexer,col_indexer] = value instead\n",
      "\n",
      "See the caveats in the documentation: http://pandas.pydata.org/pandas-docs/stable/indexing.html#indexing-view-versus-copy\n",
      "  self.obj[item] = s\n",
      "/Users/sulkuatam/anaconda/lib/python2.7/site-packages/ipykernel_launcher.py:19: SettingWithCopyWarning: \n",
      "A value is trying to be set on a copy of a slice from a DataFrame.\n",
      "Try using .loc[row_indexer,col_indexer] = value instead\n",
      "\n",
      "See the caveats in the documentation: http://pandas.pydata.org/pandas-docs/stable/indexing.html#indexing-view-versus-copy\n"
     ]
    },
    {
     "name": "stdout",
     "output_type": "stream",
     "text": [
      "Neuralnet Accuracy: 68.00%\n",
      "MCC = 0.38\n"
     ]
    }
   ],
   "source": [
    "# dataset\n",
    "df_nn = pd.read_csv(input_file)\n",
    "\n",
    "# preprocessing: factorize date column\n",
    "# for i in [0]:\n",
    "#     df_nn.iloc[:,i] = labelencoder.fit_transform(df_nn.iloc[:,i])\n",
    "\n",
    "# train/test split\n",
    "df_nn['is_train'] = np.random.uniform(0, 1, len(df_nn)) <= split\n",
    "train, test = df_nn[df_nn['is_train']==True], df_nn[df_nn['is_train']==False]\n",
    "\n",
    "# features (using all)\n",
    "features = df_nn.columns[0:num_feats]\n",
    "\n",
    "# transformations\n",
    "scaler = StandardScaler()  \n",
    "scaler.fit(train[features])  \n",
    "train[features] = scaler.transform(train[features])  \n",
    "test[features] = scaler.transform(test[features])  \n",
    "\n",
    "# predict whether price will drop more than 5% tomorrow\n",
    "nn = NeuralNet(solver='lbfgs', learning_rate_init=1e-3, alpha=1e-5, hidden_layer_sizes=(100,5), random_state=1, verbose=False)\n",
    "nn.fit(train[features], train[attribute])\n",
    "print(\"Neuralnet Accuracy: %.2f%%\" % (nn.score(test[features], test[attribute])*100.0))\n",
    "\n",
    "# matthews correction coefficient\n",
    "coeff = mcc(test[attribute],nn.predict(test[features]))\n",
    "print(\"MCC = %.2f\" % coeff)\n",
    "\n",
    "\n",
    "# # predict whether price will drop more than 5% tomorrow\n",
    "# nn.fit(train[features], train[attribute])\n",
    "# large_price_drop_prediction_5 = nn.predict(test[features])\n",
    "# probs_5_drop = nn.predict_proba(test[features])\n",
    "# print(nn.score(test[features], test[attribute]))\n",
    "\n",
    "# # predict whether price will rise more than 5% tomorrow\n",
    "# nn.fit(train[features], train[attribute])\n",
    "# large_price_gain_prediction_5 = nn.predict(test[features])\n",
    "# probs_5_gain = nn.predict_proba(test[features])\n",
    "# print(nn.score(test[features], test[attribute]))\n",
    "\n",
    "# predict whether price will increase or decrease\n",
    "# nn.fit(train[features], train[attribute])\n",
    "# price_increases_tomorrow = nn.predict(test[features])\n",
    "# probs_inc = nn.predict_proba(test[features])\n",
    "# print(nn.score(test[features], test[attribute]))\n",
    "\n",
    "# # predict whether price will rise more than 5% tomorrow\n",
    "# nn.fit(train[features], train['2_gain_tomorrow'])\n",
    "# large_price_gain_prediction_2 = nn.predict(test[features])\n",
    "# probs_2_gain = nn.predict_proba(test[features])\n",
    "# print(nn.score(test[features], test['2_gain_tomorrow']))\n",
    "\n",
    "# nn.fit(train[features], train['2_drop_tomorrow'])\n",
    "# large_price_drop_prediction_2 = nn.predict(test[features])\n",
    "# probs_2_drop = nn.predict_proba(test[features])\n",
    "# print(nn.score(test[features], test['2_drop_tomorrow']))"
   ]
  },
  {
   "cell_type": "markdown",
   "metadata": {
    "collapsed": true
   },
   "source": [
    "#### Feature Selection"
   ]
  },
  {
   "cell_type": "code",
   "execution_count": 24,
   "metadata": {},
   "outputs": [
    {
     "name": "stderr",
     "output_type": "stream",
     "text": [
      "/Users/sulkuatam/anaconda/lib/python2.7/site-packages/sklearn/metrics/classification.py:538: RuntimeWarning: invalid value encountered in true_divide\n",
      "  mcc = cov_ytyp / np.sqrt(cov_ytyt * cov_ypyp)\n",
      "/Users/sulkuatam/anaconda/lib/python2.7/site-packages/sklearn/neural_network/multilayer_perceptron.py:564: ConvergenceWarning: Stochastic Optimizer: Maximum iterations (200) reached and the optimization hasn't converged yet.\n",
      "  % self.max_iter, ConvergenceWarning)\n"
     ]
    },
    {
     "data": {
      "image/png": "[encoded data removed]",
      "text/plain": [
       "<matplotlib.figure.Figure at 0x1173630d0>"
      ]
     },
     "metadata": {},
     "output_type": "display_data"
    },
    {
     "name": "stdout",
     "output_type": "stream",
     "text": [
      "By using 7 of 7 features, we attained 2.64% accuracy\n",
      "\n"
     ]
    }
   ],
   "source": [
    "accuracy_l = []\n",
    "for i in range(1,num_feats+1):\n",
    "    # how many?\n",
    "    feats_to_keep = i\n",
    "    # reduce features\n",
    "    top_features = df_nn.columns[indices[-1*int(feats_to_keep):]]\n",
    "    # gradient boost\n",
    "    nn = NeuralNet()\n",
    "    nn.fit(train[top_features], train[attribute])    \n",
    "    # predictions and plotting\n",
    "    coeff = mcc(test[attribute],nn.predict(test[top_features]))\n",
    "    accuracy_l.append(nn.score(test[top_features], test[attribute]) * coeff * 100.0)\n",
    "\n",
    "# plot feature selection results\n",
    "plt.title('Prediction Accuracy vs. Features Utilized')\n",
    "plt.bar(range(num_feats), accuracy_l, color='b', align='center')\n",
    "plt.xlabel('n-Top Features Utilized')\n",
    "plt.show()\n",
    "\n",
    "# optimal number of features\n",
    "best_n = accuracy_l.index(max(accuracy_l))\n",
    "print(\"By using %d of %d features, we attained %.2f%% accuracy\\n\" % (best_n + 1,num_feats,accuracy_l[best_n]))"
   ]
  }
 ],
 "metadata": {
  "kernelspec": {
   "display_name": "Python 2",
   "language": "python",
   "name": "python2"
  },
  "language_info": {
   "codemirror_mode": {
    "name": "ipython",
    "version": 2
   },
   "file_extension": ".py",
   "mimetype": "text/x-python",
   "name": "python",
   "nbconvert_exporter": "python",
   "pygments_lexer": "ipython2",
   "version": "2.7.13"
  }
 },
 "nbformat": 4,
 "nbformat_minor": 2
}
