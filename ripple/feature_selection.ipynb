{
 "cells": [
  {
   "cell_type": "markdown",
   "metadata": {},
   "source": [
    "# Cryptocurrency Analysis"
   ]
  },
  {
   "cell_type": "markdown",
   "metadata": {},
   "source": [
    "## Modules used in this assignment"
   ]
  },
  {
   "cell_type": "code",
   "execution_count": 16,
   "metadata": {
    "collapsed": true
   },
   "outputs": [],
   "source": [
    "from sklearn.ensemble import RandomForestClassifier as RFC\n",
    "from sklearn.ensemble import AdaBoostClassifier as ABC\n",
    "from sklearn.ensemble import GradientBoostingClassifier as GBC\n",
    "from sklearn.neural_network import MLPClassifier as NeuralNet\n",
    "from sklearn.model_selection import train_test_split\n",
    "from sklearn.preprocessing import LabelEncoder\n",
    "from sklearn.preprocessing import StandardScaler  \n",
    "from sklearn.metrics import accuracy_score\n",
    "from sklearn.metrics import matthews_corrcoef as mcc\n",
    "import numpy as np\n",
    "import pandas as pd\n",
    "import matplotlib.pyplot as plt\n",
    "labelencoder = LabelEncoder()\n",
    "\n",
    "input_file = 'data/ripple_price.csv'\n",
    "\n",
    "def two_scales(ax1, title, time, data1, data2, c1, c2):\n",
    "    plt.title(str(title))\n",
    "    ax2 = ax1.twinx()\n",
    "    ax1.plot(time, data1, color=c1)\n",
    "    ax2.plot(time, data2, color=c2)\n",
    "    return ax1, ax2"
   ]
  },
  {
   "cell_type": "markdown",
   "metadata": {},
   "source": [
    "## Random Forest"
   ]
  },
  {
   "cell_type": "markdown",
   "metadata": {},
   "source": [
    "#### Settings"
   ]
  },
  {
   "cell_type": "code",
   "execution_count": 44,
   "metadata": {
    "collapsed": true
   },
   "outputs": [],
   "source": [
    "# attribute to predict (binary)\n",
    "attribute = 'increase_flag'\n",
    "\n",
    "# train/test split\n",
    "split = 0.8\n",
    "\n",
    "# number of features available\n",
    "num_feats = 7"
   ]
  },
  {
   "cell_type": "markdown",
   "metadata": {},
   "source": [
    "#### Training and Testing"
   ]
  },
  {
   "cell_type": "code",
   "execution_count": 60,
   "metadata": {},
   "outputs": [
    {
     "name": "stdout",
     "output_type": "stream",
     "text": [
      "We accurately predicted the next day's price movement with 56.71% accuracy.\n",
      "\n",
      "preds    no  yes\n",
      "actual          \n",
      "0       109   61\n",
      "1        68   60\n",
      "MCC = 0.11\n"
     ]
    },
    {
     "data": {
      "image/png": "[encoded data removed]",
      "text/plain": [
       "<matplotlib.figure.Figure at 0xc876160>"
      ]
     },
     "metadata": {},
     "output_type": "display_data"
    }
   ],
   "source": [
    "# load and format data\n",
    "df = pd.read_csv(input_file)\n",
    "outcomes = np.array(['no','yes'])\n",
    "names = list(df.columns.values)\n",
    "\n",
    "# preprocessing: factorize date column\n",
    "# for i in range(1):\n",
    "#     df.iloc[:,i] = labelencoder.fit_transform(df.iloc[:,i])\n",
    "    \n",
    "# train/test split\n",
    "df['is_train'] = np.random.uniform(0, 1, len(df)) <= split\n",
    "train, test = df[df['is_train']==True], df[df['is_train']==False]\n",
    "\n",
    "# features (using all)\n",
    "features = df.columns[1:num_feats]\n",
    "\n",
    "# random forest\n",
    "forest = RFC(n_estimators=175, criterion='gini', max_features='sqrt', max_depth=12,\n",
    "            min_samples_split=4, min_samples_leaf=2, oob_score=True)\n",
    "forest.fit(train[features], train[attribute])\n",
    "\n",
    "# predictions and plotting\n",
    "preds = outcomes[forest.predict(test[features])]\n",
    "accuracy = accuracy_score(test[attribute], forest.predict(test[features]), \n",
    "                          normalize=True, sample_weight=None) * 100\n",
    "print(\"We accurately predicted the next day's price movement with %.2f%% accuracy.\\n\" % accuracy)\n",
    "\n",
    "# confusion matrix\n",
    "print(pd.crosstab(index=test[attribute], columns=preds, \n",
    "                  rownames=['actual'], colnames=['preds']))\n",
    "\n",
    "# matthews correction coefficient\n",
    "coeff = mcc(test[attribute],forest.predict(test[features]))\n",
    "print(\"MCC = %.2f\" % coeff)\n",
    "\n",
    "# plot feature importance\n",
    "importances = forest.feature_importances_\n",
    "indices = np.argsort(importances)\n",
    "plt.figure(figsize=(20,10))\n",
    "plt.title('Feature Importances')\n",
    "plt.barh(range(len(indices)), importances[indices], \n",
    "         color='g', align='center')\n",
    "plt.yticks(range(len(indices)), features[indices])\n",
    "plt.xlabel('Relative Importance')\n",
    "plt.show()"
   ]
  },
  {
   "cell_type": "markdown",
   "metadata": {},
   "source": [
    "#### Feature Selection"
   ]
  },
  {
   "cell_type": "code",
   "execution_count": 61,
   "metadata": {},
   "outputs": [
    {
     "data": {
      "image/png": "[encoded data removed]",
      "text/plain": [
       "<matplotlib.figure.Figure at 0xc4a1cc0>"
      ]
     },
     "metadata": {},
     "output_type": "display_data"
    },
    {
     "name": "stdout",
     "output_type": "stream",
     "text": [
      "By using 4 of 7 features, we attained 6.29% adjusted accuracy\n",
      "\n"
     ]
    }
   ],
   "source": [
    "accuracy_l = []\n",
    "\n",
    "for i in range(1,num_feats+1):\n",
    "    # how many?\n",
    "    feats_to_keep = i\n",
    "\n",
    "    # reduce features\n",
    "    top_features = df.columns[indices[-1*int(feats_to_keep):]]\n",
    "\n",
    "    # random forest\n",
    "    forest = RFC(n_jobs=2,n_estimators=100)\n",
    "    forest.fit(train[top_features], train[attribute])\n",
    "    \n",
    "    # predictions and plotting\n",
    "    preds = forest.predict(test[top_features])\n",
    "    mattcc = mcc(test[attribute],preds)\n",
    "    accuracy_l.append(accuracy_score(test[attribute], preds, normalize=True, sample_weight=None) * mattcc * 100)\n",
    "\n",
    "# visual inspection of accuracy W.R.T \n",
    "plt.title('Adjusted Accuracy vs. Features Utilized')\n",
    "plt.bar(range(num_feats), accuracy_l, color='b', align='center')\n",
    "plt.xlabel('n-Top Features Utilized')\n",
    "plt.show()\n",
    "\n",
    "# optimal number of features to keep\n",
    "best_n = accuracy_l.index(max(accuracy_l))\n",
    "print(\"By using %d of %d features, we attained %.2f%% adjusted accuracy\\n\" % (best_n + 1,num_feats,accuracy_l[best_n]))\n",
    "feats_to_keep = best_n\n",
    "\n",
    "# FOR NEXT CELL\n",
    "\n",
    "# reduce features\n",
    "top_features = df.columns[indices[-1*int(feats_to_keep):]]\n",
    "\n",
    "# random forest\n",
    "forest = RFC(n_jobs=4,n_estimators=200)\n",
    "forest.fit(train[top_features], train[attribute])\n",
    "preds = forest.predict(test[top_features])"
   ]
  },
  {
   "cell_type": "markdown",
   "metadata": {},
   "source": [
    "## Adaboost"
   ]
  },
  {
   "cell_type": "markdown",
   "metadata": {},
   "source": [
    "#### Settings"
   ]
  },
  {
   "cell_type": "code",
   "execution_count": 62,
   "metadata": {
    "collapsed": true
   },
   "outputs": [],
   "source": [
    "# attribute to predict (binary)\n",
    "attribute = 'increase_flag'\n",
    "\n",
    "# train/test split\n",
    "split = 0.8\n",
    "\n",
    "# number of features available\n",
    "num_feats = 7"
   ]
  },
  {
   "cell_type": "markdown",
   "metadata": {},
   "source": [
    "#### Training and Testing"
   ]
  },
  {
   "cell_type": "code",
   "execution_count": 74,
   "metadata": {},
   "outputs": [
    {
     "name": "stdout",
     "output_type": "stream",
     "text": [
      "AdaBoost Accuracy: 56.38%\n",
      "MCC = 0.11\n"
     ]
    },
    {
     "data": {
      "image/png": "[encoded data removed]",
      "text/plain": [
       "<matplotlib.figure.Figure at 0xcc3db70>"
      ]
     },
     "metadata": {},
     "output_type": "display_data"
    }
   ],
   "source": [
    "# dataset\n",
    "df_ada = pd.read_csv(input_file)\n",
    "\n",
    "# preprocessing: factorize date column\n",
    "for i in [0]:\n",
    "    df_ada.iloc[:,i] = labelencoder.fit_transform(df_ada.iloc[:,i])\n",
    "\n",
    "# train/test split\n",
    "df_ada['is_train'] = np.random.uniform(0, 1, len(df_ada)) <= split\n",
    "train, test = df_ada[df_ada['is_train']==True], df_ada[df_ada['is_train']==False]\n",
    "\n",
    "# features (using all)\n",
    "features = df_ada.columns[0:num_feats]\n",
    "\n",
    "# training and testing\n",
    "adaboost = ABC(n_estimators=100).fit(train[features], train[attribute])\n",
    "print(\"AdaBoost Accuracy: %.2f%%\" % (adaboost.score(test[features], test[attribute])*100.0))\n",
    "\n",
    "# matthews correction coefficient\n",
    "coeff = mcc(test[attribute],adaboost.predict(test[features]))\n",
    "print(\"MCC = %.2f\" % coeff)\n",
    "\n",
    "# plot feature importance\n",
    "importances = adaboost.feature_importances_\n",
    "indices = np.argsort(importances)\n",
    "plt.figure(figsize=(20,10))\n",
    "plt.title('Feature Importances')\n",
    "plt.barh(range(len(indices)), importances[indices], \n",
    "         color='g', align='center')\n",
    "plt.yticks(range(len(indices)), features[indices])\n",
    "plt.xlabel('Relative Importance')\n",
    "plt.show()"
   ]
  },
  {
   "cell_type": "markdown",
   "metadata": {},
   "source": [
    "#### Feature Selection"
   ]
  },
  {
   "cell_type": "code",
   "execution_count": 75,
   "metadata": {},
   "outputs": [
    {
     "data": {
      "image/png": "[encoded data removed]",
      "text/plain": [
       "<matplotlib.figure.Figure at 0xbcabb00>"
      ]
     },
     "metadata": {},
     "output_type": "display_data"
    },
    {
     "name": "stdout",
     "output_type": "stream",
     "text": [
      "By using 7 of 7 features, we attained 6.08% adjusted accuracy\n",
      "\n"
     ]
    }
   ],
   "source": [
    "accuracy_l = []\n",
    "\n",
    "for i in range(1,num_feats+1):\n",
    "    # how many?\n",
    "    feats_to_keep = i\n",
    "\n",
    "    # reduce features\n",
    "    top_features = df_ada.columns[indices[-1*int(feats_to_keep):]]\n",
    "\n",
    "    # adaboost\n",
    "    adaboost = ABC(n_estimators=100).fit(train[features], train[attribute])\n",
    "    adaboost.fit(train[top_features], train[attribute])\n",
    "    \n",
    "    # predictions and plotting\n",
    "    coeff = mcc(test[attribute],adaboost.predict(test[top_features]))\n",
    "    accuracy_l.append(adaboost.score(test[top_features], test[attribute]) * coeff * 100.0)\n",
    "\n",
    "plt.title('Adjusted Accuracy vs. Features Utilized')\n",
    "plt.bar(range(num_feats), accuracy_l, color='b', align='center')\n",
    "plt.xlabel('n-Top Features Utilized')\n",
    "plt.show()\n",
    "\n",
    "best_n = accuracy_l.index(max(accuracy_l))\n",
    "\n",
    "print(\"By using %d of %d features, we attained %.2f%% adjusted accuracy\\n\" % (best_n + 1,num_feats,accuracy_l[best_n]))"
   ]
  },
  {
   "cell_type": "markdown",
   "metadata": {},
   "source": [
    "## Gradient Boost"
   ]
  },
  {
   "cell_type": "markdown",
   "metadata": {},
   "source": [
    "#### Settings"
   ]
  },
  {
   "cell_type": "code",
   "execution_count": 76,
   "metadata": {
    "collapsed": true
   },
   "outputs": [],
   "source": [
    "# attribute to predict (binary)\n",
    "attribute = 'increase_flag'\n",
    "\n",
    "# train/test split\n",
    "split = 0.8\n",
    "\n",
    "# number of features available\n",
    "num_feats = 7"
   ]
  },
  {
   "cell_type": "markdown",
   "metadata": {},
   "source": [
    "#### Training and Testing"
   ]
  },
  {
   "cell_type": "code",
   "execution_count": 77,
   "metadata": {},
   "outputs": [
    {
     "name": "stdout",
     "output_type": "stream",
     "text": [
      "GradBoost Accuracy: 52.17%\n",
      "MCC = -0.02\n"
     ]
    },
    {
     "data": {
      "image/png": "[encoded data removed]",
      "text/plain": [
       "<matplotlib.figure.Figure at 0xc455128>"
      ]
     },
     "metadata": {},
     "output_type": "display_data"
    }
   ],
   "source": [
    "# dataset\n",
    "df_gb = pd.read_csv(input_file)\n",
    "\n",
    "# preprocessing: factorize date column\n",
    "for i in [0]:\n",
    "    df_gb.iloc[:,i] = labelencoder.fit_transform(df_gb.iloc[:,i])\n",
    "\n",
    "# train/test split\n",
    "df_gb['is_train'] = np.random.uniform(0, 1, len(df_gb)) <= split\n",
    "train, test = df_gb[df_gb['is_train']==True], df_gb[df_gb['is_train']==False]\n",
    "\n",
    "# features (using all)\n",
    "features = df_gb.columns[0:num_feats]\n",
    "\n",
    "# training and testing\n",
    "gradboost = GBC(n_estimators=100, learning_rate=0.01, max_depth=10, random_state=5)\n",
    "gradboost.fit(train[features], train[attribute])\n",
    "print(\"GradBoost Accuracy: %.2f%%\" % (gradboost.score(test[features], test[attribute])*100.0))\n",
    "\n",
    "# matthews correction coefficient\n",
    "coeff = mcc(test[attribute],gradboost.predict(test[features]))\n",
    "print(\"MCC = %.2f\" % coeff)\n",
    "\n",
    "# feature importance\n",
    "importances = gradboost.feature_importances_\n",
    "indices = np.argsort(importances)\n",
    "plt.figure(figsize=(20,10))\n",
    "plt.title('Feature Importances')\n",
    "plt.barh(range(len(indices)), importances[indices], \n",
    "         color='g', align='center')\n",
    "plt.yticks(range(len(indices)), features[indices])\n",
    "plt.xlabel('Relative Importance')\n",
    "plt.show()"
   ]
  },
  {
   "cell_type": "markdown",
   "metadata": {},
   "source": [
    "#### Feature Selection"
   ]
  },
  {
   "cell_type": "code",
   "execution_count": 78,
   "metadata": {},
   "outputs": [
    {
     "data": {
      "image/png": "[encoded data removed]",
      "text/plain": [
       "<matplotlib.figure.Figure at 0xc4f6160>"
      ]
     },
     "metadata": {},
     "output_type": "display_data"
    },
    {
     "name": "stdout",
     "output_type": "stream",
     "text": [
      "By using 4 of 7 features, we attained 6.83% accuracy\n",
      "\n"
     ]
    }
   ],
   "source": [
    "accuracy_l = []\n",
    "for i in range(1,num_feats+1):\n",
    "    # how many?\n",
    "    feats_to_keep = i\n",
    "    # reduce features\n",
    "    top_features = df_gb.columns[indices[-1*int(feats_to_keep):]]\n",
    "    # gradient boost\n",
    "    gradboost = GBC(n_estimators=100, learning_rate=0.01, max_depth=10, random_state=5)\n",
    "    gradboost.fit(train[top_features], train[attribute])    \n",
    "    # predictions and plotting\n",
    "    coeff = mcc(test[attribute],gradboost.predict(test[top_features]))\n",
    "    accuracy_l.append(gradboost.score(test[top_features], test[attribute]) * coeff * 100.0)\n",
    "\n",
    "# plot feature selection results\n",
    "plt.title('Prediction Accuracy vs. Features Utilized')\n",
    "plt.bar(range(num_feats), accuracy_l, color='b', align='center')\n",
    "plt.xlabel('n-Top Features Utilized')\n",
    "plt.show()\n",
    "\n",
    "# optimal number of features\n",
    "best_n = accuracy_l.index(max(accuracy_l))\n",
    "print(\"By using %d of %d features, we attained %.2f%% accuracy\\n\" % (best_n + 1,num_feats,accuracy_l[best_n]))"
   ]
  },
  {
   "cell_type": "markdown",
   "metadata": {},
   "source": [
    "## Neural Network (MLP)"
   ]
  },
  {
   "cell_type": "markdown",
   "metadata": {},
   "source": [
    "#### Settings"
   ]
  },
  {
   "cell_type": "code",
   "execution_count": 79,
   "metadata": {
    "collapsed": true
   },
   "outputs": [],
   "source": [
    "# attribute to predict (binary)\n",
    "attribute = 'increase_flag'\n",
    "\n",
    "# train/test split\n",
    "split = 0.8\n",
    "\n",
    "# number of features available\n",
    "num_feats = 7"
   ]
  },
  {
   "cell_type": "markdown",
   "metadata": {},
   "source": [
    "#### Training and Testing"
   ]
  },
  {
   "cell_type": "code",
   "execution_count": 80,
   "metadata": {},
   "outputs": [
    {
     "name": "stderr",
     "output_type": "stream",
     "text": [
      "C:\\ProgramData\\Anaconda3\\lib\\site-packages\\ipykernel_launcher.py:18: SettingWithCopyWarning: \n",
      "A value is trying to be set on a copy of a slice from a DataFrame.\n",
      "Try using .loc[row_indexer,col_indexer] = value instead\n",
      "\n",
      "See the caveats in the documentation: http://pandas.pydata.org/pandas-docs/stable/indexing.html#indexing-view-versus-copy\n",
      "C:\\ProgramData\\Anaconda3\\lib\\site-packages\\pandas\\core\\indexing.py:517: SettingWithCopyWarning: \n",
      "A value is trying to be set on a copy of a slice from a DataFrame.\n",
      "Try using .loc[row_indexer,col_indexer] = value instead\n",
      "\n",
      "See the caveats in the documentation: http://pandas.pydata.org/pandas-docs/stable/indexing.html#indexing-view-versus-copy\n",
      "  self.obj[item] = s\n",
      "C:\\ProgramData\\Anaconda3\\lib\\site-packages\\ipykernel_launcher.py:19: SettingWithCopyWarning: \n",
      "A value is trying to be set on a copy of a slice from a DataFrame.\n",
      "Try using .loc[row_indexer,col_indexer] = value instead\n",
      "\n",
      "See the caveats in the documentation: http://pandas.pydata.org/pandas-docs/stable/indexing.html#indexing-view-versus-copy\n"
     ]
    },
    {
     "ename": "ValueError",
     "evalue": "Unknown label type: (array([ 1.11690864, -0.89532838,  1.11690864, ...,  1.11690864,\n       -0.89532838,  1.11690864]),)",
     "output_type": "error",
     "traceback": [
      "\u001b[1;31m---------------------------------------------------------------------------\u001b[0m",
      "\u001b[1;31mValueError\u001b[0m                                Traceback (most recent call last)",
      "\u001b[1;32m<ipython-input-80-b247352a4f6e>\u001b[0m in \u001b[0;36m<module>\u001b[1;34m()\u001b[0m\n\u001b[0;32m     35\u001b[0m \u001b[1;33m\u001b[0m\u001b[0m\n\u001b[0;32m     36\u001b[0m \u001b[1;31m# predict whether price will increase or decrease\u001b[0m\u001b[1;33m\u001b[0m\u001b[1;33m\u001b[0m\u001b[0m\n\u001b[1;32m---> 37\u001b[1;33m \u001b[0mnn\u001b[0m\u001b[1;33m.\u001b[0m\u001b[0mfit\u001b[0m\u001b[1;33m(\u001b[0m\u001b[0mtrain\u001b[0m\u001b[1;33m[\u001b[0m\u001b[0mfeatures\u001b[0m\u001b[1;33m]\u001b[0m\u001b[1;33m,\u001b[0m \u001b[0mtrain\u001b[0m\u001b[1;33m[\u001b[0m\u001b[0mattribute\u001b[0m\u001b[1;33m]\u001b[0m\u001b[1;33m)\u001b[0m\u001b[1;33m\u001b[0m\u001b[0m\n\u001b[0m\u001b[0;32m     38\u001b[0m \u001b[0mprice_increases_tomorrow\u001b[0m \u001b[1;33m=\u001b[0m \u001b[0mnn\u001b[0m\u001b[1;33m.\u001b[0m\u001b[0mpredict\u001b[0m\u001b[1;33m(\u001b[0m\u001b[0mtest\u001b[0m\u001b[1;33m[\u001b[0m\u001b[0mfeatures\u001b[0m\u001b[1;33m]\u001b[0m\u001b[1;33m)\u001b[0m\u001b[1;33m\u001b[0m\u001b[0m\n\u001b[0;32m     39\u001b[0m \u001b[0mprobs_inc\u001b[0m \u001b[1;33m=\u001b[0m \u001b[0mnn\u001b[0m\u001b[1;33m.\u001b[0m\u001b[0mpredict_proba\u001b[0m\u001b[1;33m(\u001b[0m\u001b[0mtest\u001b[0m\u001b[1;33m[\u001b[0m\u001b[0mfeatures\u001b[0m\u001b[1;33m]\u001b[0m\u001b[1;33m)\u001b[0m\u001b[1;33m\u001b[0m\u001b[0m\n",
      "\u001b[1;32mC:\\ProgramData\\Anaconda3\\lib\\site-packages\\sklearn\\neural_network\\multilayer_perceptron.py\u001b[0m in \u001b[0;36mfit\u001b[1;34m(self, X, y)\u001b[0m\n\u001b[0;32m    616\u001b[0m         \u001b[0mself\u001b[0m \u001b[1;33m:\u001b[0m \u001b[0mreturns\u001b[0m \u001b[0ma\u001b[0m \u001b[0mtrained\u001b[0m \u001b[0mMLP\u001b[0m \u001b[0mmodel\u001b[0m\u001b[1;33m.\u001b[0m\u001b[1;33m\u001b[0m\u001b[0m\n\u001b[0;32m    617\u001b[0m         \"\"\"\n\u001b[1;32m--> 618\u001b[1;33m         \u001b[1;32mreturn\u001b[0m \u001b[0mself\u001b[0m\u001b[1;33m.\u001b[0m\u001b[0m_fit\u001b[0m\u001b[1;33m(\u001b[0m\u001b[0mX\u001b[0m\u001b[1;33m,\u001b[0m \u001b[0my\u001b[0m\u001b[1;33m,\u001b[0m \u001b[0mincremental\u001b[0m\u001b[1;33m=\u001b[0m\u001b[1;32mFalse\u001b[0m\u001b[1;33m)\u001b[0m\u001b[1;33m\u001b[0m\u001b[0m\n\u001b[0m\u001b[0;32m    619\u001b[0m \u001b[1;33m\u001b[0m\u001b[0m\n\u001b[0;32m    620\u001b[0m     \u001b[1;33m@\u001b[0m\u001b[0mproperty\u001b[0m\u001b[1;33m\u001b[0m\u001b[0m\n",
      "\u001b[1;32mC:\\ProgramData\\Anaconda3\\lib\\site-packages\\sklearn\\neural_network\\multilayer_perceptron.py\u001b[0m in \u001b[0;36m_fit\u001b[1;34m(self, X, y, incremental)\u001b[0m\n\u001b[0;32m    328\u001b[0m                              hidden_layer_sizes)\n\u001b[0;32m    329\u001b[0m \u001b[1;33m\u001b[0m\u001b[0m\n\u001b[1;32m--> 330\u001b[1;33m         \u001b[0mX\u001b[0m\u001b[1;33m,\u001b[0m \u001b[0my\u001b[0m \u001b[1;33m=\u001b[0m \u001b[0mself\u001b[0m\u001b[1;33m.\u001b[0m\u001b[0m_validate_input\u001b[0m\u001b[1;33m(\u001b[0m\u001b[0mX\u001b[0m\u001b[1;33m,\u001b[0m \u001b[0my\u001b[0m\u001b[1;33m,\u001b[0m \u001b[0mincremental\u001b[0m\u001b[1;33m)\u001b[0m\u001b[1;33m\u001b[0m\u001b[0m\n\u001b[0m\u001b[0;32m    331\u001b[0m         \u001b[0mn_samples\u001b[0m\u001b[1;33m,\u001b[0m \u001b[0mn_features\u001b[0m \u001b[1;33m=\u001b[0m \u001b[0mX\u001b[0m\u001b[1;33m.\u001b[0m\u001b[0mshape\u001b[0m\u001b[1;33m\u001b[0m\u001b[0m\n\u001b[0;32m    332\u001b[0m \u001b[1;33m\u001b[0m\u001b[0m\n",
      "\u001b[1;32mC:\\ProgramData\\Anaconda3\\lib\\site-packages\\sklearn\\neural_network\\multilayer_perceptron.py\u001b[0m in \u001b[0;36m_validate_input\u001b[1;34m(self, X, y, incremental)\u001b[0m\n\u001b[0;32m    906\u001b[0m         \u001b[1;32mif\u001b[0m \u001b[1;32mnot\u001b[0m \u001b[0mincremental\u001b[0m\u001b[1;33m:\u001b[0m\u001b[1;33m\u001b[0m\u001b[0m\n\u001b[0;32m    907\u001b[0m             \u001b[0mself\u001b[0m\u001b[1;33m.\u001b[0m\u001b[0m_label_binarizer\u001b[0m \u001b[1;33m=\u001b[0m \u001b[0mLabelBinarizer\u001b[0m\u001b[1;33m(\u001b[0m\u001b[1;33m)\u001b[0m\u001b[1;33m\u001b[0m\u001b[0m\n\u001b[1;32m--> 908\u001b[1;33m             \u001b[0mself\u001b[0m\u001b[1;33m.\u001b[0m\u001b[0m_label_binarizer\u001b[0m\u001b[1;33m.\u001b[0m\u001b[0mfit\u001b[0m\u001b[1;33m(\u001b[0m\u001b[0my\u001b[0m\u001b[1;33m)\u001b[0m\u001b[1;33m\u001b[0m\u001b[0m\n\u001b[0m\u001b[0;32m    909\u001b[0m             \u001b[0mself\u001b[0m\u001b[1;33m.\u001b[0m\u001b[0mclasses_\u001b[0m \u001b[1;33m=\u001b[0m \u001b[0mself\u001b[0m\u001b[1;33m.\u001b[0m\u001b[0m_label_binarizer\u001b[0m\u001b[1;33m.\u001b[0m\u001b[0mclasses_\u001b[0m\u001b[1;33m\u001b[0m\u001b[0m\n\u001b[0;32m    910\u001b[0m         \u001b[1;32melse\u001b[0m\u001b[1;33m:\u001b[0m\u001b[1;33m\u001b[0m\u001b[0m\n",
      "\u001b[1;32mC:\\ProgramData\\Anaconda3\\lib\\site-packages\\sklearn\\preprocessing\\label.py\u001b[0m in \u001b[0;36mfit\u001b[1;34m(self, y)\u001b[0m\n\u001b[0;32m    302\u001b[0m \u001b[1;33m\u001b[0m\u001b[0m\n\u001b[0;32m    303\u001b[0m         \u001b[0mself\u001b[0m\u001b[1;33m.\u001b[0m\u001b[0msparse_input_\u001b[0m \u001b[1;33m=\u001b[0m \u001b[0msp\u001b[0m\u001b[1;33m.\u001b[0m\u001b[0missparse\u001b[0m\u001b[1;33m(\u001b[0m\u001b[0my\u001b[0m\u001b[1;33m)\u001b[0m\u001b[1;33m\u001b[0m\u001b[0m\n\u001b[1;32m--> 304\u001b[1;33m         \u001b[0mself\u001b[0m\u001b[1;33m.\u001b[0m\u001b[0mclasses_\u001b[0m \u001b[1;33m=\u001b[0m \u001b[0munique_labels\u001b[0m\u001b[1;33m(\u001b[0m\u001b[0my\u001b[0m\u001b[1;33m)\u001b[0m\u001b[1;33m\u001b[0m\u001b[0m\n\u001b[0m\u001b[0;32m    305\u001b[0m         \u001b[1;32mreturn\u001b[0m \u001b[0mself\u001b[0m\u001b[1;33m\u001b[0m\u001b[0m\n\u001b[0;32m    306\u001b[0m \u001b[1;33m\u001b[0m\u001b[0m\n",
      "\u001b[1;32mC:\\ProgramData\\Anaconda3\\lib\\site-packages\\sklearn\\utils\\multiclass.py\u001b[0m in \u001b[0;36munique_labels\u001b[1;34m(*ys)\u001b[0m\n\u001b[0;32m     96\u001b[0m     \u001b[0m_unique_labels\u001b[0m \u001b[1;33m=\u001b[0m \u001b[0m_FN_UNIQUE_LABELS\u001b[0m\u001b[1;33m.\u001b[0m\u001b[0mget\u001b[0m\u001b[1;33m(\u001b[0m\u001b[0mlabel_type\u001b[0m\u001b[1;33m,\u001b[0m \u001b[1;32mNone\u001b[0m\u001b[1;33m)\u001b[0m\u001b[1;33m\u001b[0m\u001b[0m\n\u001b[0;32m     97\u001b[0m     \u001b[1;32mif\u001b[0m \u001b[1;32mnot\u001b[0m \u001b[0m_unique_labels\u001b[0m\u001b[1;33m:\u001b[0m\u001b[1;33m\u001b[0m\u001b[0m\n\u001b[1;32m---> 98\u001b[1;33m         \u001b[1;32mraise\u001b[0m \u001b[0mValueError\u001b[0m\u001b[1;33m(\u001b[0m\u001b[1;34m\"Unknown label type: %s\"\u001b[0m \u001b[1;33m%\u001b[0m \u001b[0mrepr\u001b[0m\u001b[1;33m(\u001b[0m\u001b[0mys\u001b[0m\u001b[1;33m)\u001b[0m\u001b[1;33m)\u001b[0m\u001b[1;33m\u001b[0m\u001b[0m\n\u001b[0m\u001b[0;32m     99\u001b[0m \u001b[1;33m\u001b[0m\u001b[0m\n\u001b[0;32m    100\u001b[0m     \u001b[0mys_labels\u001b[0m \u001b[1;33m=\u001b[0m \u001b[0mset\u001b[0m\u001b[1;33m(\u001b[0m\u001b[0mchain\u001b[0m\u001b[1;33m.\u001b[0m\u001b[0mfrom_iterable\u001b[0m\u001b[1;33m(\u001b[0m\u001b[0m_unique_labels\u001b[0m\u001b[1;33m(\u001b[0m\u001b[0my\u001b[0m\u001b[1;33m)\u001b[0m \u001b[1;32mfor\u001b[0m \u001b[0my\u001b[0m \u001b[1;32min\u001b[0m \u001b[0mys\u001b[0m\u001b[1;33m)\u001b[0m\u001b[1;33m)\u001b[0m\u001b[1;33m\u001b[0m\u001b[0m\n",
      "\u001b[1;31mValueError\u001b[0m: Unknown label type: (array([ 1.11690864, -0.89532838,  1.11690864, ...,  1.11690864,\n       -0.89532838,  1.11690864]),)"
     ]
    }
   ],
   "source": [
    "# dataset\n",
    "df_nn = pd.read_csv(input_file)\n",
    "\n",
    "# preprocessing: factorize date column\n",
    "for i in [0]:\n",
    "    df_nn.iloc[:,i] = labelencoder.fit_transform(df_nn.iloc[:,i])\n",
    "\n",
    "# train/test split\n",
    "df_nn['is_train'] = np.random.uniform(0, 1, len(df_nn)) <= split\n",
    "train, test = df_nn[df_nn['is_train']==True], df_nn[df_nn['is_train']==False]\n",
    "\n",
    "# features (using all)\n",
    "features = df_nn.columns[0:num_feats]\n",
    "\n",
    "# transformations\n",
    "scaler = StandardScaler()  \n",
    "scaler.fit(train[features])  \n",
    "train[features] = scaler.transform(train[features])  \n",
    "test[features] = scaler.transform(test[features])  \n",
    "\n",
    "# predict whether price will drop more than 5% tomorrow\n",
    "nn = NeuralNet(solver='lbfgs', learning_rate_init=1e-3, alpha=1e-5, hidden_layer_sizes=(100,5), random_state=1, verbose=False)\n",
    "\n",
    "# # predict whether price will drop more than 5% tomorrow\n",
    "# nn.fit(train[features], train[attribute])\n",
    "# large_price_drop_prediction_5 = nn.predict(test[features])\n",
    "# probs_5_drop = nn.predict_proba(test[features])\n",
    "# print(nn.score(test[features], test[attribute]))\n",
    "\n",
    "# # predict whether price will rise more than 5% tomorrow\n",
    "# nn.fit(train[features], train[attribute])\n",
    "# large_price_gain_prediction_5 = nn.predict(test[features])\n",
    "# probs_5_gain = nn.predict_proba(test[features])\n",
    "# print(nn.score(test[features], test[attribute]))\n",
    "\n",
    "# predict whether price will increase or decrease\n",
    "nn.fit(train[features], train[attribute])\n",
    "price_increases_tomorrow = nn.predict(test[features])\n",
    "probs_inc = nn.predict_proba(test[features])\n",
    "print(nn.score(test[features], test[attribute]))\n",
    "\n",
    "# # predict whether price will rise more than 5% tomorrow\n",
    "# nn.fit(train[features], train['2_gain_tomorrow'])\n",
    "# large_price_gain_prediction_2 = nn.predict(test[features])\n",
    "# probs_2_gain = nn.predict_proba(test[features])\n",
    "# print(nn.score(test[features], test['2_gain_tomorrow']))\n",
    "\n",
    "# nn.fit(train[features], train['2_drop_tomorrow'])\n",
    "# large_price_drop_prediction_2 = nn.predict(test[features])\n",
    "# probs_2_drop = nn.predict_proba(test[features])\n",
    "# print(nn.score(test[features], test['2_drop_tomorrow']))"
   ]
  },
  {
   "cell_type": "code",
   "execution_count": null,
   "metadata": {
    "collapsed": true
   },
   "outputs": [],
   "source": []
  }
 ],
 "metadata": {
  "kernelspec": {
   "display_name": "Python 3",
   "language": "python",
   "name": "python3"
  },
  "language_info": {
   "codemirror_mode": {
    "name": "ipython",
    "version": 3
   },
   "file_extension": ".py",
   "mimetype": "text/x-python",
   "name": "python",
   "nbconvert_exporter": "python",
   "pygments_lexer": "ipython3",
   "version": "3.6.1"
  }
 },
 "nbformat": 4,
 "nbformat_minor": 2
}
