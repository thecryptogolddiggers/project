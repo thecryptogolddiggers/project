{
 "cells": [
  {
   "cell_type": "markdown",
   "metadata": {},
   "source": [
    "# Bitcoin Analysis rev2"
   ]
  },
  {
   "cell_type": "markdown",
   "metadata": {},
   "source": [
    "### Modules used in this assignment"
   ]
  },
  {
   "cell_type": "code",
   "execution_count": 12,
   "metadata": {
    "collapsed": true
   },
   "outputs": [],
   "source": [
    "from sklearn.ensemble import GradientBoostingClassifier as GB\n",
    "from sklearn.ensemble import RandomForestClassifier as RF\n",
    "from sklearn.tree import DecisionTreeClassifier as DT\n",
    "from sklearn.ensemble import AdaBoostClassifier as AB\n",
    "from sklearn.neighbors import KNeighborsClassifier as kNN\n",
    "from sklearn.neural_network import MLPClassifier as NN\n",
    "from sklearn.model_selection import train_test_split\n",
    "from sklearn.model_selection import cross_val_score\n",
    "from sklearn.model_selection import LeaveOneOut as LOO\n",
    "from sklearn.model_selection import KFold as KF\n",
    "from sklearn.feature_selection import RFE\n",
    "from sklearn.metrics import accuracy_score\n",
    "from sklearn.metrics import matthews_corrcoef as mcc\n",
    "from sklearn.metrics import confusion_matrix\n",
    "from sklearn.preprocessing import LabelEncoder\n",
    "from sklearn.preprocessing import StandardScaler  \n",
    "from sklearn.decomposition import PCA\n",
    "import numpy as np\n",
    "import pandas as pd\n",
    "import matplotlib.pyplot as plt\n",
    "from collections import Counter"
   ]
  },
  {
   "cell_type": "markdown",
   "metadata": {},
   "source": [
    "### Dataset"
   ]
  },
  {
   "cell_type": "code",
   "execution_count": 13,
   "metadata": {
    "collapsed": true
   },
   "outputs": [],
   "source": [
    "# which dataset?\n",
    "\"\"\"to_test = 'bitcoin-day'\n",
    "\n",
    "# dataset selection\n",
    "nm = ['bitcoin-day','bitcoin-min']\n",
    "opt = nm.index(to_test)\n",
    "# format:  ['filepath','num_features','attribute_to_predict']\n",
    "options = [['cryptocurrencypricehistory/bitcoin_dataset.csv',27,'price_increases'],['bitcoin-historical-data/btc-30min.csv',8,'price_increases_30']]\n",
    "\"\"\"\n",
    "\n",
    "# filename\n",
    "f = 'data/ripple_price.csv'\n",
    "# features available\n",
    "num_feats = 24\n",
    "# prediction attribute\n",
    "attribute = 'increase_flag'\n",
    "\n",
    "# load file\n",
    "data = pd.read_csv(f)\n",
    "# features\n",
    "names = list(data.columns.values)\n",
    "\n",
    "# label encoding\n",
    "# if opt == 1:\n",
    "#     data = data.apply(LabelEncoder().fit_transform)\n",
    "\n",
    "# split targets from attributes\n",
    "X = data.iloc[:,1:num_feats]\n",
    "Y = data[attribute]"
   ]
  },
  {
   "cell_type": "markdown",
   "metadata": {},
   "source": [
    "### Feature Selection"
   ]
  },
  {
   "cell_type": "markdown",
   "metadata": {},
   "source": [
    "First, we use a model _not_ being evaluated in this assigment to visualize feature importance."
   ]
  },
  {
   "cell_type": "code",
   "execution_count": 14,
   "metadata": {},
   "outputs": [
    {
     "data": {
      "image/png": "[encoded data removed]",
      "text/plain": [
       "<matplotlib.figure.Figure at 0xbf6fd68>"
      ]
     },
     "metadata": {},
     "output_type": "display_data"
    }
   ],
   "source": [
    "'''\n",
    "# Principal Component Analysis\n",
    "pca = PCA(n_components=26)\n",
    "pca.fit(X)\n",
    "print(pca.explained_variance_ratio_) \n",
    "X = pca.transform(X)\n",
    "'''\n",
    "\n",
    "X_train, X_test, Y_train, Y_test = train_test_split(X, Y, test_size=0.2, \n",
    "                                                    random_state=42)\n",
    "\n",
    "estimator = GB(n_estimators=200, learning_rate=0.01, max_depth=8, random_state=5)\n",
    "#estimator = kNN(n_neighbors=7)\n",
    "estimator.fit(X_train, Y_train)\n",
    "# plot feature importance\n",
    "features = data.columns[1:num_feats]\n",
    "importances = estimator.feature_importances_\n",
    "indices = np.argsort(importances)\n",
    "plt.figure(figsize=(10,6))\n",
    "plt.title('Feature Importances')\n",
    "plt.barh(range(len(indices)), importances[indices], \n",
    "         color='g', align='center')\n",
    "plt.yticks(range(len(indices)), features[indices])\n",
    "plt.xlabel('Relative Importance')\n",
    "plt.show()"
   ]
  },
  {
   "cell_type": "markdown",
   "metadata": {},
   "source": [
    "Next, we use recursive feature elimination to reduce the number of attributes from 12 to 3.  We transform X, the input attributes, to reflect this choice."
   ]
  },
  {
   "cell_type": "code",
   "execution_count": 15,
   "metadata": {},
   "outputs": [
    {
     "name": "stdout",
     "output_type": "stream",
     "text": [
      "[ 1  6  7  1  1  8  1  4  3  1  1 12  5 11  1 10  1 14  2  1  9 13  1]\n"
     ]
    }
   ],
   "source": [
    "estimator = GB(n_estimators=200, learning_rate=0.01, \n",
    "               max_depth=8, random_state=5)\n",
    "selector = RFE(estimator, 10, step=1) # recursive feature elimination\n",
    "selector = selector.fit(X_train, Y_train)\n",
    "print(selector.ranking_) # value at [i] represents the importance of the given feature\n",
    "X_reduced = selector.transform(X) # truncate the feature set"
   ]
  },
  {
   "cell_type": "code",
   "execution_count": 16,
   "metadata": {},
   "outputs": [
    {
     "name": "stdout",
     "output_type": "stream",
     "text": [
      "Selected Features:\n",
      "['open', 'close', 'volume', 'pcnt_change', '10_day_volume_avg', '20_day_volume_avg', '20_day_close_avg', '7_day_btcn_avg', 'sp500_close', 'sp500_pcnt_chng']\n"
     ]
    }
   ],
   "source": [
    "# returns indices of array elements matching a specified value\n",
    "def find(lst, val):\n",
    "    return [i for i, x in enumerate(lst) if x==val]\n",
    "feats_idx = find(list(selector.ranking_),1) # indices of top features\n",
    "selected_feats = features[feats_idx]\n",
    "print(\"Selected Features:\")\n",
    "print(list(selected_feats))"
   ]
  },
  {
   "cell_type": "markdown",
   "metadata": {},
   "source": [
    "### Random Forest"
   ]
  },
  {
   "cell_type": "code",
   "execution_count": 17,
   "metadata": {},
   "outputs": [
    {
     "name": "stdout",
     "output_type": "stream",
     "text": [
      "\n",
      "Fold\tOptimMaxDepth\tMCC\tAccuracy\n",
      "----\t-------------\t---\t--------\n",
      "1\t3\t\t0.003\t51.69\n",
      "2\t15\t\t0.003\t51.21\n",
      "3\t6\t\t0.091\t54.85\n",
      "4\t9\t\t0.003\t50.97\n",
      "5\t3\t\t0.164\t57.77\n",
      "\n",
      "Average test accuracy = 53.30%\n",
      "Average MCC = 0.053\n",
      "Average OptimMaxDepth = 7\n",
      "Confusion Matrix\n",
      "[[117  68]\n",
      " [ 98  61]]\n"
     ]
    }
   ],
   "source": [
    "X_train, X_test, Y_train, Y_test = train_test_split(X_reduced, np.array(Y), test_size=0.25, random_state=42)\n",
    "\n",
    "print(\"\\nFold\\tOptimMaxDepth\\tMCC\\tAccuracy\\n----\\t-------------\\t---\\t--------\")\n",
    "fold = 0\n",
    "kf1 = KF(n_splits=5)\n",
    "rf_test_scores = []\n",
    "rf_val_scores = []\n",
    "matt_coeffs = []\n",
    "max_depths = []\n",
    "\n",
    "#X_rf = X\n",
    "#X_rf = np.array(X_rf)\n",
    "#Y_rf = np.array(Y)\n",
    "\n",
    "# first resampling\n",
    "for train_index, test_index in kf1.split(X_train):\n",
    "    \n",
    "    fold += 1\n",
    "    xtrain, xtest = X_train[train_index], X_train[test_index]\n",
    "    ytrain, ytest = Y_train[train_index], Y_train[test_index]\n",
    "    kf2 = KF(n_splits=5)\n",
    "    mult = 3\n",
    "    innerfold = 0\n",
    "    val_scores = []\n",
    "    params = []\n",
    "    \n",
    "    # second resampling\n",
    "    for train_idx, test_idx in kf2.split(xtrain):\n",
    "        innerfold += 1\n",
    "        xxtrain, xxval = xtrain[train_idx], xtrain[test_idx]\n",
    "        yytrain, yyval = ytrain[train_idx], ytrain[test_idx]\n",
    "        # model\n",
    "        forest = RF(n_jobs=4,n_estimators=40,max_depth=innerfold*mult,class_weight='balanced')\n",
    "        forest.fit(xxtrain, yytrain)\n",
    "        # validation accuracy\n",
    "        val_score = forest.score(xxval, yyval)\n",
    "        val_scores.append(val_score)\n",
    "        rf_val_scores.append(val_score)\n",
    "        # save parameter of this round\n",
    "        params.append(int(innerfold*mult))\n",
    "    \n",
    "    # pick model with best validation score and fit it to training data\n",
    "    best_model_idx = val_scores.index(max(val_scores))\n",
    "    max_depth = params[best_model_idx]\n",
    "    max_depths.append(max_depth)\n",
    "    forest = RF(n_jobs=4,n_estimators=20,max_depth=max_depth,class_weight='balanced')\n",
    "    forest.fit(xtrain, ytrain)\n",
    "    \n",
    "    # test accuracy for this fold\n",
    "    preds = forest.predict(xtest)\n",
    "    test_score = forest.score(xtest, ytest)\n",
    "    rf_test_scores.append(test_score)\n",
    "    coeff = mcc(ytest, preds)\n",
    "    matt_coeffs.append(coeff)\n",
    "    print(\"%d\\t%d\\t\\t%.3f\\t%.2f\" % (fold,max_depth,coeff,test_score*100))\n",
    "\n",
    "# results of each testing phase\n",
    "print(\"\\nAverage test accuracy = %.2f%%\" % (np.mean(rf_test_scores) * 100))\n",
    "print(\"Average MCC = %.3f\" % np.mean(matt_coeffs))\n",
    "print(\"Average OptimMaxDepth = %d\" % np.mean(max_depths))\n",
    "\n",
    "# outermost test set\n",
    "forest = RF(n_jobs=4,n_estimators=20,max_depth=int(np.mean(max_depths)),class_weight='balanced')\n",
    "forest.fit(X_train,Y_train)\n",
    "preds = forest.predict(X_test)\n",
    "# confusion matrix\n",
    "print(\"Confusion Matrix\")\n",
    "print(confusion_matrix(Y_test, preds))"
   ]
  },
  {
   "cell_type": "markdown",
   "metadata": {},
   "source": [
    "### Adaboost"
   ]
  },
  {
   "cell_type": "code",
   "execution_count": 18,
   "metadata": {
    "scrolled": true
   },
   "outputs": [
    {
     "name": "stdout",
     "output_type": "stream",
     "text": [
      "\n",
      "Fold\t# Estimators\tMCC\tAccuracy\n",
      "----\t------------\t---\t--------\n",
      "1\t200\t\t-0.002\t50.72\n",
      "2\t500\t\t0.066\t54.11\n",
      "3\t400\t\t0.106\t56.31\n",
      "4\t500\t\t0.115\t56.80\n",
      "5\t100\t\t0.081\t54.85\n",
      "\n",
      "Average test accuracy = 54.56%\n",
      "Average MCC = 0.073\n",
      "Average Optim. # Estimators = 340\n",
      "Confusion Matrix\n",
      "[[124  71]\n",
      " [ 91  58]]\n"
     ]
    }
   ],
   "source": [
    "X_train, X_test, Y_train, Y_test = train_test_split(X_reduced, np.array(Y), test_size=0.25, random_state=24)\n",
    "\n",
    "print(\"\\nFold\\t# Estimators\\tMCC\\tAccuracy\\n----\\t------------\\t---\\t--------\")\n",
    "fold = 0\n",
    "kf1 = KF(n_splits=5)\n",
    "ab_test_scores = []\n",
    "ab_val_scores = []\n",
    "matt_coeffs = []\n",
    "max_depths = []\n",
    "\n",
    "#X_rf = X\n",
    "#X_rf = np.array(X_rf)\n",
    "#Y_rf = np.array(Y)\n",
    "\n",
    "# first resampling\n",
    "for train_index, test_index in kf1.split(X_train):\n",
    "    \n",
    "    fold += 1\n",
    "    xtrain, xtest = X_train[train_index], X_train[test_index]\n",
    "    ytrain, ytest = Y_train[train_index], Y_train[test_index]\n",
    "    kf2 = KF(n_splits=5)\n",
    "    mult = 10\n",
    "    innerfold = 0\n",
    "    val_scores = []\n",
    "    params = []\n",
    "    \n",
    "    # second resampling\n",
    "    for train_idx, test_idx in kf2.split(xtrain):\n",
    "        innerfold += 1\n",
    "        xxtrain, xxval = xtrain[train_idx], xtrain[test_idx]\n",
    "        yytrain, yyval = ytrain[train_idx], ytrain[test_idx]\n",
    "        # model\n",
    "        model = AB(n_estimators=10*mult*innerfold)\n",
    "        model.fit(xxtrain, yytrain)\n",
    "        # validation accuracy\n",
    "        val_score = model.score(xxval, yyval)\n",
    "        val_scores.append(val_score)\n",
    "        ab_val_scores.append(val_score)\n",
    "        # save parameter of this round\n",
    "        params.append(int(10*innerfold*mult))\n",
    "    \n",
    "    # pick model with best validation score and fit it to training data\n",
    "    best_model_idx = val_scores.index(max(val_scores))\n",
    "    max_depth = params[best_model_idx]\n",
    "    max_depths.append(max_depth)\n",
    "    model = AB(n_estimators=max_depth)\n",
    "    model.fit(xtrain, ytrain)\n",
    "    \n",
    "    # test accuracy for this fold\n",
    "    preds = model.predict(xtest)\n",
    "    test_score = model.score(xtest, ytest)\n",
    "    ab_test_scores.append(test_score)\n",
    "    coeff = mcc(ytest, preds)\n",
    "    matt_coeffs.append(coeff)\n",
    "    print(\"%d\\t%d\\t\\t%.3f\\t%.2f\" % (fold,max_depth,coeff,test_score*100))\n",
    "\n",
    "# results of each testing phase\n",
    "print(\"\\nAverage test accuracy = %.2f%%\" % (np.mean(ab_test_scores) * 100))\n",
    "print(\"Average MCC = %.3f\" % np.mean(matt_coeffs))\n",
    "print(\"Average Optim. # Estimators = %d\" % np.mean(max_depths))\n",
    "\n",
    "# outermost test set\n",
    "model = AB(n_estimators=int(np.mean(max_depths)))\n",
    "model.fit(X_train,Y_train)\n",
    "preds = model.predict(X_test)\n",
    "# confusion matrix\n",
    "print(\"Confusion Matrix\")\n",
    "print(confusion_matrix(Y_test, preds))"
   ]
  },
  {
   "cell_type": "markdown",
   "metadata": {},
   "source": [
    "### Decision Tree"
   ]
  },
  {
   "cell_type": "code",
   "execution_count": 19,
   "metadata": {},
   "outputs": [
    {
     "name": "stdout",
     "output_type": "stream",
     "text": [
      "\n",
      "Fold\tOptimMaxDepth\tMCC\tAccuracy\n",
      "----\t-------------\t---\t--------\n",
      "1\t8\t\t0.079\t56.04\n",
      "2\t8\t\t0.047\t55.07\n",
      "3\t4\t\t0.077\t61.65\n",
      "4\t12\t\t0.065\t52.91\n",
      "5\t12\t\t-0.025\t52.43\n",
      "\n",
      "Average test accuracy = 55.62%\n",
      "Average MCC = 0.049\n",
      "Average OptimMaxDepth = 8\n",
      "Confusion Matrix\n",
      "[[126  64]\n",
      " [ 90  64]]\n"
     ]
    }
   ],
   "source": [
    "X_train, X_test, Y_train, Y_test = train_test_split(X_reduced, np.array(Y), test_size=0.25, random_state=16)\n",
    "\n",
    "print(\"\\nFold\\tOptimMaxDepth\\tMCC\\tAccuracy\\n----\\t-------------\\t---\\t--------\")\n",
    "fold = 0\n",
    "kf1 = KF(n_splits=5)\n",
    "dt_test_scores = []\n",
    "dt_val_scores = []\n",
    "matt_coeffs = []\n",
    "max_depths = []\n",
    "\n",
    "#X_rf = X\n",
    "#X_rf = np.array(X_rf)\n",
    "#Y_rf = np.array(Y)\n",
    "\n",
    "# first resampling\n",
    "for train_index, test_index in kf1.split(X_train):\n",
    "    \n",
    "    fold += 1\n",
    "    xtrain, xtest = X_train[train_index], X_train[test_index]\n",
    "    ytrain, ytest = Y_train[train_index], Y_train[test_index]\n",
    "    kf2 = KF(n_splits=5)\n",
    "    mult = 4\n",
    "    innerfold = 0\n",
    "    val_scores = []\n",
    "    params = []\n",
    "    \n",
    "    # second resampling\n",
    "    for train_idx, test_idx in kf2.split(xtrain):\n",
    "        innerfold += 1\n",
    "        xxtrain, xxval = xtrain[train_idx], xtrain[test_idx]\n",
    "        yytrain, yyval = ytrain[train_idx], ytrain[test_idx]\n",
    "        # model\n",
    "        model = DT(max_depth=mult*innerfold,criterion='entropy')\n",
    "        model.fit(xxtrain, yytrain)\n",
    "        # validation accuracy\n",
    "        val_score = model.score(xxval, yyval)\n",
    "        val_scores.append(val_score)\n",
    "        dt_val_scores.append(val_score)\n",
    "        # save parameter of this round\n",
    "        params.append(int(innerfold*mult))\n",
    "    \n",
    "    # pick model with best validation score and fit it to training data\n",
    "    best_model_idx = val_scores.index(max(val_scores))\n",
    "    max_depth = params[best_model_idx]\n",
    "    max_depths.append(max_depth)\n",
    "    model = DT(max_depth=max_depth,criterion='entropy')\n",
    "    model.fit(xtrain, ytrain)\n",
    "    \n",
    "    # test accuracy for this fold\n",
    "    preds = model.predict(xtest)\n",
    "    test_score = model.score(xtest, ytest)\n",
    "    dt_test_scores.append(test_score)\n",
    "    coeff = mcc(ytest, preds)\n",
    "    matt_coeffs.append(coeff)\n",
    "    print(\"%d\\t%d\\t\\t%.3f\\t%.2f\" % (fold,max_depth,coeff,test_score*100))\n",
    "\n",
    "# results of each testing phase\n",
    "print(\"\\nAverage test accuracy = %.2f%%\" % (np.mean(dt_test_scores) * 100))\n",
    "print(\"Average MCC = %.3f\" % np.mean(matt_coeffs))\n",
    "print(\"Average OptimMaxDepth = %d\" % np.mean(max_depths))\n",
    "\n",
    "# outermost test set\n",
    "model = DT(max_depth=int(np.mean(max_depths)))\n",
    "model.fit(X_train,Y_train)\n",
    "preds = model.predict(X_test)\n",
    "# confusion matrix\n",
    "print(\"Confusion Matrix\")\n",
    "print(confusion_matrix(Y_test, preds))"
   ]
  },
  {
   "cell_type": "markdown",
   "metadata": {},
   "source": [
    "### MLP"
   ]
  },
  {
   "cell_type": "code",
   "execution_count": 20,
   "metadata": {},
   "outputs": [
    {
     "name": "stdout",
     "output_type": "stream",
     "text": [
      "\n",
      "Fold\tOptimal C\tMCC\tAccuracy\n",
      "----\t---------\t---\t--------\n",
      "1\t(200, 5)\t\t0.007\t55.07\n"
     ]
    },
    {
     "name": "stderr",
     "output_type": "stream",
     "text": [
      "C:\\ProgramData\\Anaconda3\\lib\\site-packages\\sklearn\\metrics\\classification.py:516: RuntimeWarning: invalid value encountered in double_scalars\n",
      "  mcc = cov_ytyp / np.sqrt(var_yt * var_yp)\n"
     ]
    },
    {
     "name": "stdout",
     "output_type": "stream",
     "text": [
      "2\t(600, 5)\t\t0.000\t47.34\n",
      "3\t(400, 5)\t\t-0.059\t57.77\n",
      "4\t(800, 5)\t\t0.198\t52.91\n",
      "5\t(800, 5)\t\t0.000\t56.31\n",
      "\n",
      "Average test accuracy = 53.88%\n",
      "Average MCC = 0.029\n"
     ]
    }
   ],
   "source": [
    "X_train, X_test, Y_train, Y_test = train_test_split(X_reduced, np.array(Y), test_size=0.25, random_state=99)\n",
    "\n",
    "print(\"\\nFold\\tOptimal C\\tMCC\\tAccuracy\\n----\\t---------\\t---\\t--------\")\n",
    "fold = 0\n",
    "kf1 = KF(n_splits=5)\n",
    "svm_test_scores = []\n",
    "svm_val_scores = []\n",
    "matt_coeffs = []\n",
    "max_depths = []\n",
    "\n",
    "#X_rf = X\n",
    "#X_rf = np.array(X_rf)\n",
    "#Y_rf = np.array(Y)\n",
    "\n",
    "# first resampling\n",
    "for train_index, test_index in kf1.split(X_train):\n",
    "    \n",
    "    fold += 1\n",
    "    xtrain, xtest = X_train[train_index], X_train[test_index]\n",
    "    ytrain, ytest = Y_train[train_index], Y_train[test_index]\n",
    "    kf2 = KF(n_splits=5)\n",
    "    mult = 20\n",
    "    innerfold = 0\n",
    "    val_scores = []\n",
    "    params = []\n",
    "    \n",
    "    # second resampling\n",
    "    for train_idx, test_idx in kf2.split(xtrain):\n",
    "        innerfold += 1\n",
    "        xxtrain, xxval = xtrain[train_idx], xtrain[test_idx]\n",
    "        yytrain, yyval = ytrain[train_idx], ytrain[test_idx]\n",
    "        # transformations\n",
    "        scaler = StandardScaler()  \n",
    "        scaler.fit(xxtrain)  \n",
    "        xxtrain = scaler.transform(xxtrain)  \n",
    "        xxval = scaler.transform(xxval)\n",
    "        # model\n",
    "        model = NN(solver='lbfgs',hidden_layer_sizes=(10*innerfold*mult,5))\n",
    "        model.fit(xxtrain, yytrain)\n",
    "        # validation accuracy\n",
    "        val_score = model.score(xxval, yyval)\n",
    "        val_scores.append(val_score)\n",
    "        svm_val_scores.append(val_score)\n",
    "        # save parameter of this round\n",
    "        params.append((10*innerfold*mult,5))\n",
    "    \n",
    "    # pick model with best validation score and fit it to training data\n",
    "    best_model_idx = val_scores.index(max(val_scores))\n",
    "    max_depth = params[best_model_idx]\n",
    "    max_depths.append(max_depth)\n",
    "    model = NN(solver='lbfgs',hidden_layer_sizes=max_depth)\n",
    "    # transformations\n",
    "    scaler = StandardScaler()  \n",
    "    scaler.fit(xxtrain)  \n",
    "    xtrain = scaler.transform(xtrain)  \n",
    "    xtest = scaler.transform(xtest)\n",
    "    model.fit(xtrain, ytrain)\n",
    "    \n",
    "    # test accuracy for this fold\n",
    "    preds = model.predict(xtest)\n",
    "    test_score = model.score(xtest, ytest)\n",
    "    svm_test_scores.append(test_score)\n",
    "    coeff = mcc(ytest, preds)\n",
    "    matt_coeffs.append(coeff)\n",
    "    print(\"%d\\t%s\\t\\t%.3f\\t%.2f\" % (fold,max_depth,coeff,test_score*100))\n",
    "\n",
    "# results of each testing phase\n",
    "print(\"\\nAverage test accuracy = %.2f%%\" % (np.mean(svm_test_scores) * 100))\n",
    "print(\"Average MCC = %.3f\" % np.mean(matt_coeffs))\n",
    "\n",
    "# outermost test set\n",
    "#model = NN(solver='adam',hidden_layer_sizes=max_depth)\n",
    "#model.fit(X_train,Y_train)\n",
    "#preds = model.predict(X_test)\n",
    "# confusion matrix\n",
    "#print(\"Confusion Matrix\")\n",
    "#print(confusion_matrix(Y_test, preds))"
   ]
  },
  {
   "cell_type": "markdown",
   "metadata": {},
   "source": [
    "### k-Nearest Neighbor"
   ]
  },
  {
   "cell_type": "code",
   "execution_count": 21,
   "metadata": {},
   "outputs": [
    {
     "name": "stdout",
     "output_type": "stream",
     "text": [
      "\n",
      "Fold\tOptimal k\tMCC\tAccuracy\n",
      "----\t---------\t---\t--------\n",
      "1\t11\t\t0.032\t54.11\n",
      "2\t11\t\t0.117\t57.97\n",
      "3\t11\t\t-0.047\t48.54\n",
      "4\t11\t\t0.122\t58.25\n",
      "5\t7\t\t0.151\t60.19\n",
      "\n",
      "Average test accuracy = 55.81%\n",
      "Average MCC = 0.075\n",
      "Average Optimal k = 10\n",
      "Confusion Matrix\n",
      "[[139  38]\n",
      " [127  40]]\n"
     ]
    }
   ],
   "source": [
    "X_train, X_test, Y_train, Y_test = train_test_split(X_reduced, np.array(Y), test_size=0.25, random_state=66)\n",
    "\n",
    "print(\"\\nFold\\tOptimal k\\tMCC\\tAccuracy\\n----\\t---------\\t---\\t--------\")\n",
    "fold = 0\n",
    "kf1 = KF(n_splits=5)\n",
    "knn_test_scores = []\n",
    "knn_val_scores = []\n",
    "matt_coeffs = []\n",
    "max_depths = []\n",
    "\n",
    "#X_rf = X\n",
    "#X_rf = np.array(X_rf)\n",
    "#Y_rf = np.array(Y)\n",
    "\n",
    "# first resampling\n",
    "for train_index, test_index in kf1.split(X_train):\n",
    "    \n",
    "    fold += 1\n",
    "    xtrain, xtest = X_train[train_index], X_train[test_index]\n",
    "    ytrain, ytest = Y_train[train_index], Y_train[test_index]\n",
    "    kf2 = KF(n_splits=5)\n",
    "    mult = 1\n",
    "    innerfold = 0\n",
    "    val_scores = []\n",
    "    params = []\n",
    "    \n",
    "    # second resampling\n",
    "    for train_idx, test_idx in kf2.split(xtrain):\n",
    "        innerfold += 1\n",
    "        xxtrain, xxval = xtrain[train_idx], xtrain[test_idx]\n",
    "        yytrain, yyval = ytrain[train_idx], ytrain[test_idx]\n",
    "        # model\n",
    "        model = kNN(n_neighbors=mult*innerfold*2+1)\n",
    "        model.fit(xxtrain, yytrain)\n",
    "        # validation accuracy\n",
    "        val_score = model.score(xxval, yyval)\n",
    "        val_scores.append(val_score)\n",
    "        knn_val_scores.append(val_score)\n",
    "        # save parameter of this round\n",
    "        params.append(mult*innerfold*2+1)\n",
    "    \n",
    "    # pick model with best validation score and fit it to training data\n",
    "    best_model_idx = val_scores.index(max(val_scores))\n",
    "    max_depth = params[best_model_idx]\n",
    "    max_depths.append(max_depth)\n",
    "    model = kNN(n_neighbors=max_depth)\n",
    "    model.fit(xtrain, ytrain)\n",
    "    \n",
    "    # test accuracy for this fold\n",
    "    preds = model.predict(xtest)\n",
    "    test_score = model.score(xtest, ytest)\n",
    "    knn_test_scores.append(test_score)\n",
    "    coeff = mcc(ytest, preds)\n",
    "    matt_coeffs.append(coeff)\n",
    "    print(\"%d\\t%d\\t\\t%.3f\\t%.2f\" % (fold,max_depth,coeff,test_score*100))\n",
    "\n",
    "# results of each testing phase\n",
    "print(\"\\nAverage test accuracy = %.2f%%\" % (np.mean(knn_test_scores) * 100))\n",
    "print(\"Average MCC = %.3f\" % np.mean(matt_coeffs))\n",
    "print(\"Average Optimal k = %d\" % int(np.mean(max_depths)))\n",
    "\n",
    "# outermost test set\n",
    "model = kNN(n_neighbors=int(np.mean(max_depths)))\n",
    "model.fit(X_train,Y_train)\n",
    "preds = model.predict(X_test)\n",
    "# confusion matrix\n",
    "print(\"Confusion Matrix\")\n",
    "print(confusion_matrix(Y_test, preds))"
   ]
  },
  {
   "cell_type": "markdown",
   "metadata": {},
   "source": [
    "### Data Visualization"
   ]
  },
  {
   "cell_type": "code",
   "execution_count": 22,
   "metadata": {},
   "outputs": [
    {
     "data": {
      "image/png": "[encoded data removed]",
      "text/plain": [
       "<matplotlib.figure.Figure at 0xc186e10>"
      ]
     },
     "metadata": {},
     "output_type": "display_data"
    },
    {
     "data": {
      "image/png": "[encoded data removed]",
      "text/plain": [
       "<matplotlib.figure.Figure at 0xc177ba8>"
      ]
     },
     "metadata": {},
     "output_type": "display_data"
    }
   ],
   "source": [
    "boxdata = [rf_val_scores, ab_val_scores, dt_val_scores, svm_val_scores, knn_val_scores]\n",
    "labels = ['Rand Forest','AdaBoost','Decision Tree','MLP','k-NN']\n",
    "plt.figure()\n",
    "plt.boxplot(boxdata,labels=labels,showmeans=True)\n",
    "plt.xlabel(\"Algorithm\")\n",
    "plt.ylabel(\"Validation Accuracy\")\n",
    "plt.title(\"Training\")\n",
    "plt.show()\n",
    "\n",
    "\n",
    "boxdata = [rf_test_scores, ab_test_scores, dt_test_scores, svm_test_scores, knn_test_scores]\n",
    "labels = ['Rand Forest','AdaBoost','Decision Tree','MLP','k-NN']\n",
    "plt.figure()\n",
    "plt.boxplot(boxdata,labels=labels,showmeans=True)\n",
    "plt.xlabel(\"Algorithm\")\n",
    "plt.ylabel(\"Test Accuracy\")\n",
    "plt.title(\"Testing\")\n",
    "plt.show()"
   ]
  },
  {
   "cell_type": "code",
   "execution_count": null,
   "metadata": {
    "collapsed": true
   },
   "outputs": [],
   "source": []
  }
 ],
 "metadata": {
  "kernelspec": {
   "display_name": "Python 3",
   "language": "python",
   "name": "python3"
  },
  "language_info": {
   "codemirror_mode": {
    "name": "ipython",
    "version": 3
   },
   "file_extension": ".py",
   "mimetype": "text/x-python",
   "name": "python",
   "nbconvert_exporter": "python",
   "pygments_lexer": "ipython3",
   "version": "3.6.1"
  }
 },
 "nbformat": 4,
 "nbformat_minor": 2
}
